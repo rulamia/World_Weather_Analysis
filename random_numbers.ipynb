{
 "cells": [
  {
   "cell_type": "code",
   "execution_count": 1,
   "id": "44b82f34",
   "metadata": {},
   "outputs": [],
   "source": [
    "# Import the random module.\n",
    "import random"
   ]
  },
  {
   "cell_type": "code",
   "execution_count": 2,
   "id": "95dc5a68",
   "metadata": {},
   "outputs": [
    {
     "data": {
      "text/plain": [
       "53"
      ]
     },
     "execution_count": 2,
     "metadata": {},
     "output_type": "execute_result"
    }
   ],
   "source": [
    "random.randint(-90, 90)"
   ]
  },
  {
   "cell_type": "code",
   "execution_count": 3,
   "id": "649a2047",
   "metadata": {},
   "outputs": [],
   "source": [
    "x = 1\n",
    "latitudes = []\n",
    "while x < 11:\n",
    "    random_lat = random.randint(-90, 89) + random.random()\n",
    "    latitudes.append(random_lat)\n",
    "    x += 1"
   ]
  },
  {
   "cell_type": "code",
   "execution_count": 6,
   "id": "46c6a043",
   "metadata": {},
   "outputs": [
    {
     "data": {
      "text/plain": [
       "-7.081489560081039"
      ]
     },
     "execution_count": 6,
     "metadata": {},
     "output_type": "execute_result"
    }
   ],
   "source": [
    "random.uniform(-90, 90)"
   ]
  },
  {
   "cell_type": "code",
   "execution_count": 8,
   "id": "5fd96d3f",
   "metadata": {},
   "outputs": [
    {
     "name": "stdout",
     "output_type": "stream",
     "text": [
      "-67\n",
      "0.9161206383381568\n",
      "68\n",
      "-71.98487784179127\n"
     ]
    }
   ],
   "source": [
    "print(random.randint(-90,89))\n",
    "print(random.random())\n",
    "print(random.randrange(-90, 90, step=1))\n",
    "print(random.uniform(-90, 90))"
   ]
  },
  {
   "cell_type": "code",
   "execution_count": 9,
   "id": "25c1378b",
   "metadata": {},
   "outputs": [],
   "source": [
    "# Import the NumPy module.\n",
    "import numpy as np"
   ]
  },
  {
   "cell_type": "code",
   "execution_count": 10,
   "id": "116e31e0",
   "metadata": {},
   "outputs": [
    {
     "data": {
      "text/plain": [
       "-44.14093738855358"
      ]
     },
     "execution_count": 10,
     "metadata": {},
     "output_type": "execute_result"
    }
   ],
   "source": [
    "np.random.uniform(-90.000, 90.000)"
   ]
  },
  {
   "cell_type": "code",
   "execution_count": 12,
   "id": "92897b4d",
   "metadata": {},
   "outputs": [
    {
     "data": {
      "text/plain": [
       "array([-3.12572528e+01, -2.92345012e+01, -3.22321525e+01,  2.44549928e+01,\n",
       "       -6.37708483e+00, -1.39905345e+01,  7.06109094e+01,  6.54103410e+00,\n",
       "        1.85207874e+00,  8.52116121e+01,  5.53664423e+01, -7.88395679e+01,\n",
       "        6.62599303e+01, -4.32723130e+01, -5.05769783e+01,  3.93321448e+01,\n",
       "       -1.76225993e+01,  6.12218881e+00,  4.73676706e+01,  1.48505556e+01,\n",
       "       -3.16353919e+01,  1.83198589e-02, -6.63649755e+01, -2.27346474e+01,\n",
       "       -8.33969802e+01,  3.75827897e+01, -7.77580154e+00, -7.03518106e+01,\n",
       "        3.42310557e+01, -8.93146880e+01,  8.76925022e+01,  3.12430980e+01,\n",
       "        2.96791631e+00,  7.90751214e+01, -8.68331336e+01,  7.30331153e+01,\n",
       "       -8.80281033e+01, -5.92655548e+01, -2.71690178e+01, -6.19727177e+01,\n",
       "       -4.47823668e+01,  3.59705590e+01, -5.86956535e+01,  1.09652691e+01,\n",
       "        4.71973566e+01, -4.22240625e+01,  3.80449440e+01,  4.70751310e+00,\n",
       "       -2.15410340e+01, -6.73163693e+00])"
      ]
     },
     "execution_count": 12,
     "metadata": {},
     "output_type": "execute_result"
    }
   ],
   "source": [
    "np.random.uniform(-90.000, 90.000, size=50)"
   ]
  },
  {
   "cell_type": "code",
   "execution_count": 13,
   "id": "d3c1c03e",
   "metadata": {},
   "outputs": [],
   "source": [
    "# Import timeit.\n",
    "import timeit"
   ]
  },
  {
   "cell_type": "code",
   "execution_count": 14,
   "id": "77126ef8",
   "metadata": {},
   "outputs": [
    {
     "name": "stdout",
     "output_type": "stream",
     "text": [
      "12.1 µs ± 61.2 ns per loop (mean ± std. dev. of 7 runs, 100000 loops each)\n"
     ]
    }
   ],
   "source": [
    "%timeit np.random.uniform(-90.000, 90.000, size=1500)"
   ]
  },
  {
   "cell_type": "code",
   "execution_count": 15,
   "id": "69e49716",
   "metadata": {},
   "outputs": [
    {
     "name": "stdout",
     "output_type": "stream",
     "text": [
      "1.54 ms ± 3.55 µs per loop (mean ± std. dev. of 7 runs, 1000 loops each)\n"
     ]
    }
   ],
   "source": [
    "def latitudes(size):\n",
    "    latitudes = []\n",
    "    x = 0\n",
    "    while x < (size):\n",
    "        random_lat = random.randint(-90, 90) + random.random()\n",
    "        latitudes.append(random_lat)\n",
    "        x += 1\n",
    "    return latitudes\n",
    "# Call the function with 1500.\n",
    "%timeit latitudes(1500)"
   ]
  },
  {
   "cell_type": "code",
   "execution_count": 16,
   "id": "2972d251",
   "metadata": {},
   "outputs": [
    {
     "data": {
      "text/plain": [
       "array([-48.57452311,  18.69845214,  17.05356074, ..., -55.73339085,\n",
       "        -9.85375381, -28.6289689 ])"
      ]
     },
     "execution_count": 16,
     "metadata": {},
     "output_type": "execute_result"
    }
   ],
   "source": [
    "np.random.uniform(-90.000, 90.000, size=1500)"
   ]
  },
  {
   "cell_type": "code",
   "execution_count": null,
   "id": "49071697",
   "metadata": {},
   "outputs": [],
   "source": []
  }
 ],
 "metadata": {
  "kernelspec": {
   "display_name": "PythonData",
   "language": "python",
   "name": "pythondata"
  },
  "language_info": {
   "codemirror_mode": {
    "name": "ipython",
    "version": 3
   },
   "file_extension": ".py",
   "mimetype": "text/x-python",
   "name": "python",
   "nbconvert_exporter": "python",
   "pygments_lexer": "ipython3",
   "version": "3.7.11"
  }
 },
 "nbformat": 4,
 "nbformat_minor": 5
}
